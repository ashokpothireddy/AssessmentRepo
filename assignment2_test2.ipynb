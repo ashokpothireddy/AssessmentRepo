{
 "cells": [
  {
   "cell_type": "markdown",
   "metadata": {},
   "source": [
    "# TASK 1.1"
   ]
  },
  {
   "cell_type": "code",
   "execution_count": 39,
   "metadata": {},
   "outputs": [
    {
     "name": "stdout",
     "output_type": "stream",
     "text": [
      "21\n"
     ]
    }
   ],
   "source": [
    "def myreduce(function,lst):\n",
    "    result = lst[0]\n",
    "    for i in lst[1:]:\n",
    "        result = function([result,i])\n",
    "    return result\n",
    "\n",
    "c = myreduce(sum,[1,2,3,4,5,6])\n",
    "print(c)"
   ]
  },
  {
   "cell_type": "markdown",
   "metadata": {},
   "source": [
    "# TASK 1 2"
   ]
  },
  {
   "cell_type": "code",
   "execution_count": 1,
   "metadata": {},
   "outputs": [
    {
     "data": {
      "text/plain": [
       "False"
      ]
     },
     "execution_count": 1,
     "metadata": {},
     "output_type": "execute_result"
    }
   ],
   "source": [
    "s=\"ashok\"\n",
    "s.isnumeric()"
   ]
  },
  {
   "cell_type": "code",
   "execution_count": 33,
   "metadata": {},
   "outputs": [
    {
     "name": "stdout",
     "output_type": "stream",
     "text": [
      "[1, 2, 3, 4] ['a', 'e', 'o', 'o']\n"
     ]
    }
   ],
   "source": [
    "def myfilter(function,lst):\n",
    "    result = []\n",
    "    for i in lst:\n",
    "        if function(i):\n",
    "            result.append(i)\n",
    "    return result\n",
    "\n",
    "def ispositive(x):\n",
    "    if x >= 0:\n",
    "        return True\n",
    "    else :\n",
    "        return False\n",
    "\n",
    "def isvowel(x):\n",
    "    for i in [\"a\",\"e\",\"i\",\"o\",\"u\"]:\n",
    "        if x == i:\n",
    "            return True\n",
    "    else:\n",
    "        return False\n",
    "    \n",
    "d = myfilter(ispositive,[1,2,3,-2,4,-5])\n",
    "z = myfilter(isvowel,[\"a\",\"b\",\"e\",\"z\",\"o\",\"x\",\"o\"])\n",
    "print(d,z)"
   ]
  },
  {
   "cell_type": "code",
   "execution_count": 25,
   "metadata": {},
   "outputs": [
    {
     "name": "stdout",
     "output_type": "stream",
     "text": [
      "['A', 'C', 'A', 'D', 'G', 'I', 'L', 'D']\n",
      "['x', 'y', 'z', 'xx', 'yy', 'zz', 'xxx', 'yyy', 'zzz', 'xxxx', 'yyyy', 'zzzz']\n",
      "['x', 'xx', 'xxx', 'xxxx', 'y', 'yy', 'yyy', 'yyyy', 'z', 'zz', 'zzz', 'zzzz']\n",
      "[[2], [3], [4], [3], [4], [5], [4], [5], [6]]\n",
      "[[2, 3, 4, 5], [3, 4, 5, 6], [4, 5, 6, 7], [5, 6, 7, 8]]\n",
      "[(1, 1), (1, 2), (1, 3), (2, 1), (2, 2), (2, 3), (3, 1), (3, 2), (3, 3)]\n"
     ]
    }
   ],
   "source": [
    "str = [\"ACADGILD\"]\n",
    "l = [\"x\",\"y\",\"z\"]\n",
    "n1 = [1,2,3]\n",
    "n2 = [1,2,3,4]\n",
    "n = [ j for i in str for j in i]\n",
    "m = [ list*i for list in l for i in range(1,5) ]\n",
    "k = [ list*i for i in range(1,5) for list in l ]\n",
    "o = [[i + num] for num in range(1,4) for i in n1]\n",
    "p = [[i + num for num in range(1,5)] for i in n2]\n",
    "q = [(i,num) for i in n1 for num in range(1,4)]\n",
    "print(n)\n",
    "print(k)\n",
    "print(m)\n",
    "print(o)\n",
    "print(p)\n",
    "print(q)"
   ]
  },
  {
   "cell_type": "markdown",
   "metadata": {},
   "source": [
    "# TASK 1 3"
   ]
  },
  {
   "cell_type": "code",
   "execution_count": 150,
   "metadata": {},
   "outputs": [
    {
     "name": "stdout",
     "output_type": "stream",
     "text": [
      "Please input the list of words with space:\"Sachin\" \"YuvrajSingh\" \"HaribhajanSingh\"\n",
      "['\"Sachin\"', '\"YuvrajSingh\"', '\"HaribhajanSingh\"']\n"
     ]
    },
    {
     "data": {
      "text/plain": [
       "'\"HaribhajanSingh\"'"
      ]
     },
     "execution_count": 150,
     "metadata": {},
     "output_type": "execute_result"
    }
   ],
   "source": [
    "def longestword(n):\n",
    "    i = max(n,key=len)\n",
    "    return i\n",
    "list1= input(\"Please input the list of words with space:\").split()\n",
    "print(list1)\n",
    "longestword(list1)"
   ]
  },
  {
   "cell_type": "markdown",
   "metadata": {},
   "source": [
    "# TASK 2 1.1"
   ]
  },
  {
   "cell_type": "code",
   "execution_count": 3,
   "metadata": {},
   "outputs": [
    {
     "name": "stdout",
     "output_type": "stream",
     "text": [
      "enter 'a:'20\n",
      "enter 'b:'30\n",
      "enter 'b:'40\n",
      "290.4737509655563\n"
     ]
    }
   ],
   "source": [
    "class triangle:\n",
    "    def __init__(self,a,b,c):\n",
    "        self.a = a\n",
    "        self.b = b\n",
    "        self.c = c\n",
    "    \n",
    "    def triangle_ar(self):\n",
    "        s = (self.a+self.b+self.c)/2\n",
    "        a = (s*(s-self.a)*(s-self.b)*(s-self.c))**0.5\n",
    "        return a\n",
    "\n",
    "\n",
    "a = int(input(\"enter 'a:'\"))\n",
    "b = int(input(\"enter 'b:'\"))\n",
    "c = int(input(\"enter 'b:'\"))\n",
    "\n",
    "z = triangle(a,b,c)\n",
    "print(z.triangle_ar())"
   ]
  },
  {
   "cell_type": "markdown",
   "metadata": {},
   "source": [
    "# TASK 2 1.2"
   ]
  },
  {
   "cell_type": "code",
   "execution_count": 1,
   "metadata": {},
   "outputs": [
    {
     "name": "stdout",
     "output_type": "stream",
     "text": [
      "Please input the list of words with space:dravid ganguly sachin yuvi dhoni dk\n",
      "Please input an integer:5\n",
      "List of words greater than the integer are: ['dravid', 'ganguly', 'sachin']\n"
     ]
    }
   ],
   "source": [
    "b=[]\n",
    "def filter_long_words(a,n):\n",
    "    for i in a:\n",
    "        if len(i)>n:\n",
    "            b.append(i)\n",
    "c = input(\"Please input the list of words with space:\").split()\n",
    "d = int(input(\"Please input an integer:\"))\n",
    "filter_long_words(c,d)\n",
    "print(\"List of words greater than the integer are:\",b)"
   ]
  },
  {
   "cell_type": "markdown",
   "metadata": {},
   "source": [
    "# TASK 2 2.1"
   ]
  },
  {
   "cell_type": "code",
   "execution_count": 27,
   "metadata": {},
   "outputs": [
    {
     "name": "stdout",
     "output_type": "stream",
     "text": [
      "Please input the list of words with space:ab cde erty\n",
      "[2, 3, 4]\n"
     ]
    }
   ],
   "source": [
    "def wordlenght(words):\n",
    "    return map(len,words)\n",
    "words = input(\"Please input the list of words with space:\").split()\n",
    "print(list(wordlenght(words)))"
   ]
  },
  {
   "cell_type": "markdown",
   "metadata": {},
   "source": [
    "# TASK 2 2.2"
   ]
  },
  {
   "cell_type": "code",
   "execution_count": 42,
   "metadata": {},
   "outputs": [
    {
     "name": "stdout",
     "output_type": "stream",
     "text": [
      "enter one character:ganguly\n",
      "False\n"
     ]
    }
   ],
   "source": [
    "def is_vowel(char):\n",
    "    vowels = [\"a\",\"e\",\"i\",\"o\",\"u\"]\n",
    "    for i in vowels:\n",
    "        if char == i:\n",
    "            return True\n",
    "        else:\n",
    "            return False\n",
    "char=input(\"enter one character:\")[0]\n",
    "print(is_vowel(char))"
   ]
  },
  {
   "cell_type": "code",
   "execution_count": 137,
   "metadata": {},
   "outputs": [
    {
     "name": "stdout",
     "output_type": "stream",
     "text": [
      "(1, 1) (1, 2)(2, 2) (2, 3)(3, 3) (3, 4)\n",
      "(1, 1) (1, 3)(2, 2) (2, 4)(3, 3) (3, 5)\n",
      "(1, 1) (1, 4)(2, 2) (2, 5)(3, 3) (3, 6)\n"
     ]
    }
   ],
   "source": [
    "n1 = [1,2,3]\n",
    "for num in range(1,4):\n",
    "    for i in n1:\n",
    "        j = i + num\n",
    "        print((i,i),(i,j),end=\"\")\n",
    "    print()"
   ]
  },
  {
   "cell_type": "code",
   "execution_count": 136,
   "metadata": {},
   "outputs": [
    {
     "name": "stdout",
     "output_type": "stream",
     "text": [
      "1\n",
      "2\n",
      "3\n"
     ]
    }
   ],
   "source": [
    "n1 = [1,2,3]\n",
    "for i in n1:\n",
    "    print(i)"
   ]
  },
  {
   "cell_type": "code",
   "execution_count": 117,
   "metadata": {},
   "outputs": [
    {
     "name": "stdout",
     "output_type": "stream",
     "text": [
      "[1, 2, 3, 4, 1, 2, 3, 4]\n"
     ]
    }
   ],
   "source": [
    "num = 1\n",
    "z = n1*2\n",
    "print(z)"
   ]
  },
  {
   "cell_type": "code",
   "execution_count": 140,
   "metadata": {},
   "outputs": [
    {
     "name": "stdout",
     "output_type": "stream",
     "text": [
      "(1, 1)(1, 2)(1, 3)\n",
      "(2, 1)(2, 2)(2, 3)\n",
      "(3, 1)(3, 2)(3, 3)\n"
     ]
    }
   ],
   "source": [
    "n1 = [1,2,3]\n",
    "for i in n1:\n",
    "    for num in range(1,4):\n",
    "        print((i,num),end=\"\")\n",
    "    print()"
   ]
  },
  {
   "cell_type": "code",
   "execution_count": null,
   "metadata": {},
   "outputs": [],
   "source": []
  }
 ],
 "metadata": {
  "kernelspec": {
   "display_name": "Python 3",
   "language": "python",
   "name": "python3"
  },
  "language_info": {
   "codemirror_mode": {
    "name": "ipython",
    "version": 3
   },
   "file_extension": ".py",
   "mimetype": "text/x-python",
   "name": "python",
   "nbconvert_exporter": "python",
   "pygments_lexer": "ipython3",
   "version": "3.7.6"
  }
 },
 "nbformat": 4,
 "nbformat_minor": 4
}
